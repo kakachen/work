{
 "cells": [
  {
   "cell_type": "markdown",
   "metadata": {
    "collapsed": false,
    "scrolled": false
   },
   "source": [
    "# Step 1 Box plot  (distribution #comments/each post among different facebook fans pages)"
   ]
  },
  {
   "cell_type": "code",
   "execution_count": 8,
   "metadata": {
    "collapsed": false
   },
   "outputs": [],
   "source": [
    "%matplotlib inline\n",
    "\n",
    "import pyes\n",
    "import json\n",
    "import pandas as pd\n",
    "import seaborn as sns\n",
    "\n",
    "def boxPlotFBFansPageComp(fids,host,pngFilePath,outlierFilter):\n",
    "    data=[]\n",
    "    for fid in fids:\n",
    "        conn = pyes.es.ES(host)\n",
    "        tq = pyes.query.TermQuery(field=\"fid\", value=fid)\n",
    "        tagg = pyes.aggs.TermsAgg('pid', field= 'fid_pid')\n",
    "        qsearch = pyes.query.Search(tq) \n",
    "        qsearch.agg.add(tagg) \n",
    "        result = conn.search(query=qsearch , indices='facebook_nested' , doc_types='comment')\n",
    "        #print json.dumps(result.aggs,indent=2) \n",
    "        for fidpid_summary in result.aggs[\"pid\"][\"buckets\"]:\n",
    "            #print fidpid_summary[\"key\"] + ',' + str(fidpid_summary[\"doc_count\"])\n",
    "            if fidpid_summary[\"doc_count\"] < outlierFilter or outlierFilter < 0:\n",
    "                data.append([fidpid_summary[\"doc_count\"],fid,fidpid_summary[\"key\"]])\n",
    "\n",
    "    df=pd.DataFrame(data,columns={'count','fid','fidpid'})\n",
    "    sns.set(style=\"ticks\")\n",
    "    sns_plot=sns.boxplot(x=\"fid\", y=\"count\", data=df, palette=\"PRGn\")\n",
    "    fig=sns_plot.get_figure()\n",
    "    fig.savefig(pngFilePath)"
   ]
  },
  {
   "cell_type": "markdown",
   "metadata": {},
   "source": [
    "# Step 2: Please assign several Facebook fan pages and parameters \n",
    "\n",
    "## (code-customerized by yourself is required!)\n"
   ]
  },
  {
   "cell_type": "code",
   "execution_count": 3,
   "metadata": {
    "collapsed": false
   },
   "outputs": [
    {
     "ename": "NameError",
     "evalue": "name 'boxPlotFBFansPageComp' is not defined",
     "output_type": "error",
     "traceback": [
      "\u001b[0;31m---------------------------------------------------------------------------\u001b[0m",
      "\u001b[0;31mNameError\u001b[0m                                 Traceback (most recent call last)",
      "\u001b[0;32m<ipython-input-3-24e6214cce0b>\u001b[0m in \u001b[0;36m<module>\u001b[0;34m()\u001b[0m\n\u001b[1;32m     12\u001b[0m \u001b[0;34m\u001b[0m\u001b[0m\n\u001b[1;32m     13\u001b[0m \u001b[0;31m#obtain the result and save as \"pngFilePath\" given from you\u001b[0m\u001b[0;34m\u001b[0m\u001b[0;34m\u001b[0m\u001b[0m\n\u001b[0;32m---> 14\u001b[0;31m \u001b[0mboxPlotFBFansPageComp\u001b[0m\u001b[0;34m(\u001b[0m\u001b[0mfids\u001b[0m\u001b[0;34m,\u001b[0m\u001b[0mhost\u001b[0m\u001b[0;34m,\u001b[0m\u001b[0mpngFilePath\u001b[0m\u001b[0;34m,\u001b[0m\u001b[0moutlierFilter\u001b[0m\u001b[0;34m)\u001b[0m\u001b[0;34m\u001b[0m\u001b[0m\n\u001b[0m",
      "\u001b[0;31mNameError\u001b[0m: name 'boxPlotFBFansPageComp' is not defined"
     ]
    }
   ],
   "source": [
    "#assign the facebook fans page that you prefered\n",
    "fids=['7270241753','278029242253904']\n",
    "\n",
    "#elasticsearch repository provided by this course\n",
    "host = '127.0.0.1:9200'\n",
    "\n",
    "#output box plot PNG figure\n",
    "pngFilePath=\"output.png\"\n",
    "\n",
    "#outlier threshold you want to filter (if you give minus ONE, none of outlier is filtered.)\n",
    "outlierFilter=2000\n",
    "\n",
    "#obtain the result and save as \"pngFilePath\" given from you\n",
    "boxPlotFBFansPageComp(fids,host,pngFilePath,outlierFilter)"
   ]
  },
  {
   "cell_type": "markdown",
   "metadata": {},
   "source": [
    "# Step 3: Box plot (#post per month for specified page)¶"
   ]
  },
  {
   "cell_type": "code",
   "execution_count": 10,
   "metadata": {
    "collapsed": false
   },
   "outputs": [],
   "source": [
    "import pyes\n",
    "import json\n",
    "import pandas as pd\n",
    "import seaborn as sns\n",
    "import datetime\n",
    "import matplotlib.pyplot as plt\n",
    "\n",
    "\n",
    "def boxPlotNumofPostPerMonth(fid,host,lowerbound,upperbound,pngFilePath):\n",
    "    conn = pyes.es.ES(host)\n",
    "    tq = pyes.query.TermQuery(field=\"fid\", value=fid)\n",
    "    #tagg = pyes.aggs.TermsAgg('pid', field= 'fid_pid')\n",
    "    DHAgg = pyes.aggs.DateHistogramAgg('month' ,field='created_time', interval='month',sub_aggs=[])\n",
    "    tagg = pyes.aggs.TermsAgg('pid', field= 'fid_pid')\n",
    "    DHAgg.sub_aggs.append(tagg) \n",
    "    qsearch = pyes.query.Search(tq) \n",
    "    qsearch.agg.add(DHAgg) \n",
    "    result = conn.search(query=qsearch , indices='facebook_nested' , doc_types='comment')\n",
    "\n",
    "    data=[]\n",
    "    for r in result.aggs[\"month\"][\"buckets\"]:\n",
    "        for pid in r[\"pid\"][\"buckets\"]:\n",
    "            monthyear=datetime.datetime.strptime(r[\"key_as_string\"], \"%Y-%m-%dT%H:%M:%S.%fZ\").strftime('%Y/%m')\n",
    "            data.append([pid[\"doc_count\"],monthyear,pid[\"key\"],r[\"key\"]])\n",
    "\n",
    "    df=pd.DataFrame(data,columns={'date','count','fid','pid'})\n",
    "    sns.set(style=\"ticks\")\n",
    "    sns_plot=sns.boxplot(x=\"date\", y=\"count\", data=df, palette=\"PRGn\")\n",
    "    fig=sns_plot.get_figure()\n",
    "    plt.ylim(lower_bound, upper_bound)\n",
    "    fig.savefig(pngFilePath)"
   ]
  },
  {
   "cell_type": "markdown",
   "metadata": {},
   "source": [
    "# Step 4: Please assign several Facebook fan pages and parameters\n",
    "(code-customerized by yourself is required!)"
   ]
  },
  {
   "cell_type": "code",
   "execution_count": 1,
   "metadata": {
    "collapsed": false,
    "scrolled": true
   },
   "outputs": [
    {
     "ename": "NameError",
     "evalue": "name 'boxPlotNumofPostPerMonth' is not defined",
     "output_type": "error",
     "traceback": [
      "\u001b[0;31m---------------------------------------------------------------------------\u001b[0m",
      "\u001b[0;31mNameError\u001b[0m                                 Traceback (most recent call last)",
      "\u001b[0;32m<ipython-input-1-f8e4ae063c41>\u001b[0m in \u001b[0;36m<module>\u001b[0;34m()\u001b[0m\n\u001b[1;32m      4\u001b[0m \u001b[0mfid\u001b[0m\u001b[0;34m=\u001b[0m\u001b[0;34m\"7270241753\"\u001b[0m\u001b[0;34m\u001b[0m\u001b[0m\n\u001b[1;32m      5\u001b[0m \u001b[0mpngFilePath\u001b[0m\u001b[0;34m=\u001b[0m\u001b[0;34m\"output3.png\"\u001b[0m\u001b[0;34m\u001b[0m\u001b[0m\n\u001b[0;32m----> 6\u001b[0;31m \u001b[0mboxPlotNumofPostPerMonth\u001b[0m\u001b[0;34m(\u001b[0m\u001b[0mfid\u001b[0m\u001b[0;34m,\u001b[0m\u001b[0mhost\u001b[0m\u001b[0;34m,\u001b[0m\u001b[0mlower_bound\u001b[0m\u001b[0;34m,\u001b[0m\u001b[0mupper_bound\u001b[0m\u001b[0;34m,\u001b[0m\u001b[0mpngFilePath\u001b[0m\u001b[0;34m)\u001b[0m\u001b[0;34m\u001b[0m\u001b[0m\n\u001b[0m",
      "\u001b[0;31mNameError\u001b[0m: name 'boxPlotNumofPostPerMonth' is not defined"
     ]
    }
   ],
   "source": [
    "host = '127.0.0.1:9200'\n",
    "lower_bound = 0\n",
    "upper_bound = 500\n",
    "fid=\"7270241753\"\n",
    "pngFilePath=\"output3.png\"\n",
    "boxPlotNumofPostPerMonth(fid,host,lower_bound,upper_bound,pngFilePath)"
   ]
  },
  {
   "cell_type": "code",
   "execution_count": 12,
   "metadata": {
    "collapsed": false
   },
   "outputs": [
    {
     "name": "stderr",
     "output_type": "stream",
     "text": [
      "pyes object <pyes.es.ES object at 0x11fa2e320> is being destroyed, but bulk operations have not been flushed. Call force_bulk()!\n"
     ]
    },
    {
     "data": {
      "image/png": "[encoded data removed]",
      "text/plain": [
       "<matplotlib.figure.Figure at 0x104901dd8>"
      ]
     },
     "metadata": {},
     "output_type": "display_data"
    }
   ],
   "source": [
    "host = '127.0.0.1:9200'\n",
    "lower_bound = 0\n",
    "upper_bound = 500\n",
    "fid=\"1448357445384692\"\n",
    "pngFilePath=\"output4.png\"\n",
    "boxPlotNumofPostPerMonth(fid,host,lower_bound,upper_bound,pngFilePath)"
   ]
  },
  {
   "cell_type": "code",
   "execution_count": 2,
   "metadata": {
    "collapsed": false
   },
   "outputs": [
    {
     "ename": "NameError",
     "evalue": "name 'boxPlotNumofPostPerMonth' is not defined",
     "output_type": "error",
     "traceback": [
      "\u001b[0;31m---------------------------------------------------------------------------\u001b[0m",
      "\u001b[0;31mNameError\u001b[0m                                 Traceback (most recent call last)",
      "\u001b[0;32m<ipython-input-2-990fdb3d7d76>\u001b[0m in \u001b[0;36m<module>\u001b[0;34m()\u001b[0m\n\u001b[1;32m      4\u001b[0m \u001b[0mfid\u001b[0m\u001b[0;34m=\u001b[0m\u001b[0;34m\"7270241753\"\u001b[0m\u001b[0;34m\u001b[0m\u001b[0m\n\u001b[1;32m      5\u001b[0m \u001b[0mpngFilePath\u001b[0m\u001b[0;34m=\u001b[0m\u001b[0;34m\"output5.png\"\u001b[0m\u001b[0;34m\u001b[0m\u001b[0m\n\u001b[0;32m----> 6\u001b[0;31m \u001b[0mboxPlotNumofPostPerMonth\u001b[0m\u001b[0;34m(\u001b[0m\u001b[0mfid\u001b[0m\u001b[0;34m,\u001b[0m\u001b[0mhost\u001b[0m\u001b[0;34m,\u001b[0m\u001b[0mlower_bound\u001b[0m\u001b[0;34m,\u001b[0m\u001b[0mupper_bound\u001b[0m\u001b[0;34m,\u001b[0m\u001b[0mpngFilePath\u001b[0m\u001b[0;34m)\u001b[0m\u001b[0;34m\u001b[0m\u001b[0m\n\u001b[0m",
      "\u001b[0;31mNameError\u001b[0m: name 'boxPlotNumofPostPerMonth' is not defined"
     ]
    }
   ],
   "source": [
    "host = '127.0.0.1:9200'\n",
    "lower_bound = 0\n",
    "upper_bound = 500\n",
    "fid=\"7270241753\"\n",
    "pngFilePath=\"output5.png\"\n",
    "boxPlotNumofPostPerMonth(fid,host,lower_bound,upper_bound,pngFilePath)"
   ]
  },
  {
   "cell_type": "markdown",
   "metadata": {},
   "source": [
    "# Step 5 Get User-Post frequence matrix\n",
    "## input {es address, row name, column name, fans page ID}"
   ]
  },
  {
   "cell_type": "code",
   "execution_count": null,
   "metadata": {
    "collapsed": false
   },
   "outputs": [],
   "source": [
    "import pyes\n",
    "import json\n",
    "\n",
    "def getUserPostFreqMatrix(es_address,row,column,fid):\n",
    "    rc=200\n",
    "    cc=200\n",
    "    \n",
    "    rowIndexList,colIndexList,matrix = [],[],[]\n",
    "    conn=pyes.es.ES(es_address)\n",
    "    tq = pyes.query.TermQuery(field=\"fid\", value=fid)\n",
    "\n",
    "    tagg = pyes.aggs.TermsAgg(row, field= r, sub_aggs=[]) \n",
    "    tagg1 = pyes.aggs.TermsAgg(column, field= c)  \n",
    "    tagg.sub_aggs.append(tagg1) \n",
    "\n",
    "    qsearch = pyes.query.Search(tq) \n",
    "    qsearch.agg.add(tagg)\n",
    "\n",
    "    rs = conn.search(query=qsearch, indices='facebook_nested' ,type=\"comment\" )\n",
    "    \n",
    "    rowcount=0\n",
    "    colcount=0\n",
    "    for user in rs.aggs[row]['buckets']:\n",
    "        if user['key']!=\"\" and user['key'] not in rowIndexList and rowcount<rc:\n",
    "            rowIndexList.append(user['key'])\n",
    "            rowcount=rowcount+1\n",
    "\n",
    "        for post in user[column]['buckets']:\n",
    "            if post['key'] not in colIndexList and colcount<cc:\n",
    "                colIndexList.append(post['key'])\n",
    "                colcount=colcount+1\n",
    "\n",
    "    for i in range(0,len(rowIndexList)):\n",
    "        matrix.append([0.0]*len(colIndexList))\n",
    "\n",
    "    for user in rs.aggs[row]['buckets']:\n",
    "        if user[\"key\"] in rowIndexList:\n",
    "            for post in user[column]['buckets']:\n",
    "                if post['key'] in colIndexList:\n",
    "                    matrix[rowIndexList.index(user['key'])][colIndexList.index(post['key'])]= float(post['doc_count'])\n",
    "    \n",
    "    \n",
    "    return {\"data\":matrix,\"col\":colIndexList,\"row\":rowIndexList}"
   ]
  },
  {
   "cell_type": "markdown",
   "metadata": {},
   "source": [
    "# Step 6: Please assign specified Facebook fan page and parameters"
   ]
  },
  {
   "cell_type": "code",
   "execution_count": 15,
   "metadata": {
    "collapsed": false
   },
   "outputs": [
    {
     "ename": "NameError",
     "evalue": "name 'r' is not defined",
     "output_type": "error",
     "traceback": [
      "\u001b[0;31m---------------------------------------------------------------------------\u001b[0m",
      "\u001b[0;31mNameError\u001b[0m                                 Traceback (most recent call last)",
      "\u001b[0;32m<ipython-input-15-023f9d4220c3>\u001b[0m in \u001b[0;36m<module>\u001b[0;34m()\u001b[0m\n\u001b[1;32m      3\u001b[0m \u001b[0mcolumn\u001b[0m\u001b[0;34m=\u001b[0m\u001b[0;34m\"fid_pid\"\u001b[0m\u001b[0;34m\u001b[0m\u001b[0m\n\u001b[1;32m      4\u001b[0m \u001b[0mfid\u001b[0m\u001b[0;34m=\u001b[0m\u001b[0;34m\"179080912217031\"\u001b[0m\u001b[0;34m\u001b[0m\u001b[0m\n\u001b[0;32m----> 5\u001b[0;31m \u001b[0mresult\u001b[0m \u001b[0;34m=\u001b[0m \u001b[0mgetUserPostFreqMatrix\u001b[0m\u001b[0;34m(\u001b[0m\u001b[0mes_address\u001b[0m\u001b[0;34m,\u001b[0m\u001b[0mrow\u001b[0m\u001b[0;34m,\u001b[0m\u001b[0mcolumn\u001b[0m\u001b[0;34m,\u001b[0m\u001b[0mfid\u001b[0m\u001b[0;34m)\u001b[0m\u001b[0;34m\u001b[0m\u001b[0m\n\u001b[0m",
      "\u001b[0;32m<ipython-input-13-40431973c9ae>\u001b[0m in \u001b[0;36mgetUserPostFreqMatrix\u001b[0;34m(es_address, row, column, fid)\u001b[0m\n\u001b[1;32m     10\u001b[0m     \u001b[0mtq\u001b[0m \u001b[0;34m=\u001b[0m \u001b[0mpyes\u001b[0m\u001b[0;34m.\u001b[0m\u001b[0mquery\u001b[0m\u001b[0;34m.\u001b[0m\u001b[0mTermQuery\u001b[0m\u001b[0;34m(\u001b[0m\u001b[0mfield\u001b[0m\u001b[0;34m=\u001b[0m\u001b[0;34m\"fid\"\u001b[0m\u001b[0;34m,\u001b[0m \u001b[0mvalue\u001b[0m\u001b[0;34m=\u001b[0m\u001b[0mfid\u001b[0m\u001b[0;34m)\u001b[0m\u001b[0;34m\u001b[0m\u001b[0m\n\u001b[1;32m     11\u001b[0m \u001b[0;34m\u001b[0m\u001b[0m\n\u001b[0;32m---> 12\u001b[0;31m     \u001b[0mtagg\u001b[0m \u001b[0;34m=\u001b[0m \u001b[0mpyes\u001b[0m\u001b[0;34m.\u001b[0m\u001b[0maggs\u001b[0m\u001b[0;34m.\u001b[0m\u001b[0mTermsAgg\u001b[0m\u001b[0;34m(\u001b[0m\u001b[0mrow\u001b[0m\u001b[0;34m,\u001b[0m \u001b[0mfield\u001b[0m\u001b[0;34m=\u001b[0m \u001b[0mr\u001b[0m\u001b[0;34m,\u001b[0m \u001b[0msub_aggs\u001b[0m\u001b[0;34m=\u001b[0m\u001b[0;34m[\u001b[0m\u001b[0;34m]\u001b[0m\u001b[0;34m)\u001b[0m\u001b[0;34m\u001b[0m\u001b[0m\n\u001b[0m\u001b[1;32m     13\u001b[0m     \u001b[0mtagg1\u001b[0m \u001b[0;34m=\u001b[0m \u001b[0mpyes\u001b[0m\u001b[0;34m.\u001b[0m\u001b[0maggs\u001b[0m\u001b[0;34m.\u001b[0m\u001b[0mTermsAgg\u001b[0m\u001b[0;34m(\u001b[0m\u001b[0mcolumn\u001b[0m\u001b[0;34m,\u001b[0m \u001b[0mfield\u001b[0m\u001b[0;34m=\u001b[0m \u001b[0mc\u001b[0m\u001b[0;34m)\u001b[0m\u001b[0;34m\u001b[0m\u001b[0m\n\u001b[1;32m     14\u001b[0m     \u001b[0mtagg\u001b[0m\u001b[0;34m.\u001b[0m\u001b[0msub_aggs\u001b[0m\u001b[0;34m.\u001b[0m\u001b[0mappend\u001b[0m\u001b[0;34m(\u001b[0m\u001b[0mtagg1\u001b[0m\u001b[0;34m)\u001b[0m\u001b[0;34m\u001b[0m\u001b[0m\n",
      "\u001b[0;31mNameError\u001b[0m: name 'r' is not defined"
     ]
    }
   ],
   "source": [
    "es_address=\"127.0.0.1:9200\"\n",
    "row=\"from.id\"\n",
    "column=\"fid_pid\"\n",
    "fid=\"1448357445384692\"\n",
    "result = getUserPostFreqMatrix(es_address,row,column,fid)"
   ]
  },
  {
   "cell_type": "code",
   "execution_count": 16,
   "metadata": {
    "collapsed": false
   },
   "outputs": [
    {
     "ename": "ImportError",
     "evalue": "cannot import name 'letters'",
     "output_type": "error",
     "traceback": [
      "\u001b[0;31m---------------------------------------------------------------------------\u001b[0m",
      "\u001b[0;31mImportError\u001b[0m                               Traceback (most recent call last)",
      "\u001b[0;32m<ipython-input-16-6342ddbe14d9>\u001b[0m in \u001b[0;36m<module>\u001b[0;34m()\u001b[0m\n\u001b[0;32m----> 1\u001b[0;31m \u001b[0;32mfrom\u001b[0m \u001b[0mstring\u001b[0m \u001b[0;32mimport\u001b[0m \u001b[0mletters\u001b[0m\u001b[0;34m\u001b[0m\u001b[0m\n\u001b[0m\u001b[1;32m      2\u001b[0m \u001b[0;32mimport\u001b[0m \u001b[0mnumpy\u001b[0m \u001b[0;32mas\u001b[0m \u001b[0mnp\u001b[0m\u001b[0;34m\u001b[0m\u001b[0m\n\u001b[1;32m      3\u001b[0m \u001b[0;32mimport\u001b[0m \u001b[0mpandas\u001b[0m \u001b[0;32mas\u001b[0m \u001b[0mpd\u001b[0m\u001b[0;34m\u001b[0m\u001b[0m\n\u001b[1;32m      4\u001b[0m \u001b[0;32mimport\u001b[0m \u001b[0mseaborn\u001b[0m \u001b[0;32mas\u001b[0m \u001b[0msns\u001b[0m\u001b[0;34m\u001b[0m\u001b[0m\n\u001b[1;32m      5\u001b[0m \u001b[0;32mimport\u001b[0m \u001b[0mmatplotlib\u001b[0m\u001b[0;34m.\u001b[0m\u001b[0mpyplot\u001b[0m \u001b[0;32mas\u001b[0m \u001b[0mplt\u001b[0m\u001b[0;34m\u001b[0m\u001b[0m\n",
      "\u001b[0;31mImportError\u001b[0m: cannot import name 'letters'"
     ]
    }
   ],
   "source": [
    "from string import letters\n",
    "import numpy as np\n",
    "import pandas as pd\n",
    "import seaborn as sns\n",
    "import matplotlib.pyplot as plt\n",
    "\n",
    "sns.set(style=\"white\")\n",
    "\n",
    "# Generate a large random dataset\n",
    "d = pd.DataFrame(data=result[\"data\"],\n",
    "                 columns=result[\"col\"])\n",
    "\n",
    "# Compute the correlation matrix\n",
    "corr = d.corr()\n",
    "\n",
    "# Generate a mask for the upper triangle\n",
    "mask = np.zeros_like(corr, dtype=np.bool)\n",
    "mask[np.triu_indices_from(mask)] = True\n",
    "\n",
    "# Set up the matplotlib figure\n",
    "f, ax = plt.subplots(figsize=(20, 10))\n",
    "\n",
    "# Generate a custom diverging colormap\n",
    "cmap = sns.diverging_palette(220, 10, as_cmap=True)\n",
    "\n",
    "# Draw the heatmap with the mask and correct aspect ratio\n",
    "sns.heatmap(corr, mask=mask, cmap=cmap, vmax=.3,\n",
    "            square=True, xticklabels=5, yticklabels=5,\n",
    "            linewidths=.5, cbar_kws={\"shrink\": .5}, ax=ax)"
   ]
  },
  {
   "cell_type": "code",
   "execution_count": null,
   "metadata": {
    "collapsed": false
   },
   "outputs": [],
   "source": [
    "result[\"row\"]"
   ]
  },
  {
   "cell_type": "code",
   "execution_count": null,
   "metadata": {
    "collapsed": true
   },
   "outputs": [],
   "source": []
  }
 ],
 "metadata": {
  "anaconda-cloud": {},
  "kernelspec": {
   "display_name": "Python [conda root]",
   "language": "python",
   "name": "conda-root-py"
  },
  "language_info": {
   "codemirror_mode": {
    "name": "ipython",
    "version": 3
   },
   "file_extension": ".py",
   "mimetype": "text/x-python",
   "name": "python",
   "nbconvert_exporter": "python",
   "pygments_lexer": "ipython3",
   "version": "3.5.2"
  }
 },
 "nbformat": 4,
 "nbformat_minor": 0
}
